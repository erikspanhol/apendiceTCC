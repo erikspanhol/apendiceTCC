{
 "cells": [
  {
   "cell_type": "code",
   "execution_count": 26,
   "id": "8acdba73",
   "metadata": {},
   "outputs": [],
   "source": [
    "import pandas as pd\n",
    "import numpy as np\n",
    "import itertools\n",
    "from ast import literal_eval"
   ]
  },
  {
   "cell_type": "code",
   "execution_count": 27,
   "id": "2c4370dd",
   "metadata": {
    "scrolled": true
   },
   "outputs": [],
   "source": [
    "#importar dataframe do WMS\n",
    "loc_itens_path = 'Desktop/TCC/GERAL/df_itens_layout2_5_10_1_100.csv'\n",
    "df_localizacoes = pd.read_csv(loc_itens_path)\n",
    "#importar dataframe dos pedidos\n",
    "ordens_de_compra_path = 'Desktop/TCC/GERAL/df_ordens_de_compra_100.csv'\n",
    "df_lista_dos_pedidos = pd.read_csv(ordens_de_compra_path)\n",
    "\n",
    "#Incluir coluna 'Coord' em orderlines\n"
   ]
  },
  {
   "cell_type": "code",
   "execution_count": 28,
   "id": "fd0bde74",
   "metadata": {},
   "outputs": [],
   "source": [
    "#Identificar itens da lista de pedidos\n",
    "tam_lista_de_pedidos = len(df_lista_dos_pedidos)\n",
    "lista_de_itens = list(df_lista_dos_pedidos.Item)\n",
    "\n",
    "#listas para buscar coord. dos pedidos\n",
    "ls_posicao_x=[]\n",
    "ls_posicao_y=[]\n",
    "\n",
    "\n",
    "#Incluir coluna 'Coord' na df_lista_dos_pedidos na ordem da lista de pedidos\n",
    "for i in range(tam_lista_de_pedidos):\n",
    "    buscar_item = lista_de_itens[i]\n",
    "    for k in range(len(df_localizacoes)):\n",
    "        if buscar_item == int(df_localizacoes[k:k+1].Cod_Item):\n",
    "            ls_posicao_x.append(int(df_localizacoes[k:k+1].Coord_X))\n",
    "            ls_posicao_y.append(int(df_localizacoes[k:k+1].Coord_Y))\n",
    "ls=list(zip(ls_posicao_x,ls_posicao_y))   \n",
    "df_lista_dos_pedidos = df_lista_dos_pedidos.assign(Coord = ls)\n"
   ]
  },
  {
   "cell_type": "code",
   "execution_count": 29,
   "id": "b971a3ed",
   "metadata": {},
   "outputs": [],
   "source": [
    "\n",
    "def mapeamento_da_lista_de_pedidos(df_lista_dos_pedidos, tamanho_de_onda):\n",
    "  ## Já está ordenada *Não funcionou com TimeStamp\n",
    "   \n",
    "    ls_pedidos = []\n",
    "    tamanho_lista_dos_pedidos=len(df_lista_dos_pedidos)\n",
    "    \n",
    "    # lista de ordens ordenadas cronologicamente\n",
    "    for j in range(tamanho_lista_dos_pedidos+1):\n",
    "        ls_pedidos.append(j)\n",
    "        \n",
    "    # Dictionnary for mapping\n",
    "    dict_map = dict(zip(ls_pedidos, [i for i in range(1, tamanho_lista_dos_pedidos+1)]))\n",
    "    # Order ID mapping\n",
    "    df_lista_dos_pedidos['ID_do_Pedido'] = df_lista_dos_pedidos['Unnamed: 0'].map(dict_map)\n",
    "    df_lista_dos_pedidos['ID_da_Onda'] = (df_lista_dos_pedidos.ID_do_Pedido%tamanho_de_onda == 0).shift(1).fillna(0).cumsum()\n",
    "    # Counting number of Waves\n",
    "    numero_de_onda = df_lista_dos_pedidos.ID_da_Onda.max() + 1\n",
    "    \n",
    "\n",
    "    return df_lista_dos_pedidos, numero_de_onda\n"
   ]
  },
  {
   "cell_type": "code",
   "execution_count": 30,
   "id": "af50ad30",
   "metadata": {},
   "outputs": [],
   "source": [
    "# Getting storage locations to cover for a wave of orders\n",
    "\n",
    "def listagem_das_localizacoes(df_lista_dos_pedidos, ID_Onda):\n",
    "\n",
    "    # Filter by ID_Onda\n",
    "    df = df_lista_dos_pedidos[df_lista_dos_pedidos.ID_da_Onda == ID_Onda]\n",
    "    # Create coordinates listing\n",
    "    lista_localizacoes = list(df['Coord'])\n",
    "    lista_localizacoes.sort()\n",
    "    # Get unique Unique coordinates\n",
    "    lista_localizacoes = list(k for k,_ in itertools.groupby(lista_localizacoes))\n",
    "    tamanho_lista_localizacoes = len(lista_localizacoes)\n",
    "\n",
    "    return lista_localizacoes, tamanho_lista_localizacoes\n",
    "\n",
    "\n"
   ]
  },
  {
   "cell_type": "code",
   "execution_count": 31,
   "id": "2fa70ec7",
   "metadata": {},
   "outputs": [],
   "source": [
    "\n",
    "# Calculate Picker Route Distance between two locations\n",
    "def distancia_de_busca(ponto1, ponto2, y_limite_inferior, y_limite_superior):\n",
    "\n",
    "    # Start Point\n",
    "    x1, y1 = ponto1[0], ponto1[1]\n",
    "    # End Point\n",
    "    x2, y2 = ponto2[0], ponto2[1]\n",
    "    # Distance x-axis\n",
    "    distancia_x = abs(x2 - x1)\n",
    "    # Distance y-axis\n",
    "    if x1 == x2:\n",
    "        distancia_y1 = abs(y2 - y1)\n",
    "        distancia_y2 = distancia_y1\n",
    "    else:\n",
    "        distancia_y1 = (y_limite_superior - y1) + (y_limite_superior - y2)\n",
    "        distancia_y2 = (y1 - y_limite_inferior) + (y2 - y_limite_inferior)\n",
    "    # Minimum distance on y-axis \n",
    "    distancia_y = min(distancia_y1, distancia_y2)    \n",
    "    # Total distance\n",
    "    distancia = distancia_x + distancia_y\n",
    "\n",
    "    return distancia\n"
   ]
  },
  {
   "cell_type": "code",
   "execution_count": 32,
   "id": "c6992c4f",
   "metadata": {},
   "outputs": [],
   "source": [
    "def proximo_ponto(ponto_inicial, lista_localizacoes, y_limite_inferior, y_limite_superior):\n",
    "\n",
    "    # Distance to every next points candidate\n",
    "    lista_distancias = [distancia_de_busca(ponto_inicial, i, y_limite_inferior, y_limite_superior) for i in lista_localizacoes]\n",
    "    # Minimum Distance \n",
    "    distancia_seguinte = min(lista_distancias)\n",
    "    # Location of minimum distance\n",
    "    index_min = lista_distancias.index(min(lista_distancias))\n",
    "    ponto_seguinte = lista_localizacoes[index_min] # Next location is the first location with distance = min (**)\n",
    "    lista_localizacoes.remove(ponto_seguinte)      # Next location is removed from the list of candidates\n",
    "    \n",
    "    return lista_localizacoes, ponto_inicial, ponto_seguinte, distancia_seguinte"
   ]
  },
  {
   "cell_type": "code",
   "execution_count": 33,
   "id": "1b2fd0d9",
   "metadata": {
    "scrolled": true
   },
   "outputs": [],
   "source": [
    "# Calculate total distance to cover for a list of locations\n",
    "def criar_rota_de_coleta(ponto_de_origem, lista_localizacoes, y_limite_inferior, y_limite_superior):\n",
    "\n",
    "    # Total distance variable\n",
    "    distancia_da_onda = 0\n",
    "    # Current location variable \n",
    "    ponto_inicial = ponto_de_origem\n",
    "    # Store routes\n",
    "    lista_do_caminho = []\n",
    "    lista_do_caminho.append(ponto_inicial)\n",
    "    \n",
    "    while len(lista_localizacoes) > 0: # Looping until all locations are picked\n",
    "        # Going to next location\n",
    "        lista_localizacoes, ponto_inicial, ponto_seguinte, distancia_seguinte = proximo_ponto(ponto_inicial, lista_localizacoes, y_limite_inferior, y_limite_superior)\n",
    "        # Update ponto_inicial \n",
    "        ponto_inicial = ponto_seguinte\n",
    "        lista_do_caminho.append(ponto_inicial)\n",
    "        # Update distance\n",
    "        distancia_da_onda = distancia_da_onda + distancia_seguinte \n",
    "\n",
    "    # Final distance from last storage location to origin\n",
    "    distancia_da_onda = distancia_da_onda + distancia_de_busca(ponto_inicial, ponto_de_origem, y_limite_inferior, y_limite_superior)\n",
    "    lista_do_caminho.append(ponto_de_origem)\n",
    "    \n",
    "    return distancia_da_onda, lista_do_caminho\n"
   ]
  },
  {
   "cell_type": "code",
   "execution_count": 34,
   "id": "05e77c48",
   "metadata": {},
   "outputs": [
    {
     "name": "stdout",
     "output_type": "stream",
     "text": [
      "   Numero da Onda  Distancia da Rota         Caminho Percorrido  Pedidos/Onda\n",
      "0               0                 12   [[0, 0], (2, 4), [0, 0]]             1\n",
      "1               1                 38  [[0, 0], (10, 9), [0, 0]]             1\n",
      "2               2                  6   [[0, 0], (2, 1), [0, 0]]             1\n",
      "3               3                 16   [[0, 0], (2, 6), [0, 0]]             1\n",
      "4               4                 20   [[0, 0], (2, 8), [0, 0]]             1\n"
     ]
    },
    {
     "data": {
      "image/png": "[encoded data removed]",
      "text/plain": [
       "<Figure size 432x288 with 1 Axes>"
      ]
     },
     "metadata": {
      "needs_background": "light"
     },
     "output_type": "display_data"
    }
   ],
   "source": [
    "y_limite_inferior, y_limite_superior = 0, 11 \t\t# Alley Coordinates on y-axis\n",
    "ponto_de_origem = [0, y_limite_inferior]  \t\t\t# Origin Location-->Ponto de expedição\n",
    "\n",
    "#Create lists to store results\n",
    "lista_id_da_onda, lista_da_distancia, lista_da_rota, lista_dos_pedidos = [], [], [], []\n",
    "\n",
    "# Function \n",
    "def onda_simulada(y_limite_inferior, y_limite_superior, tamanho_de_onda, df_lista_dos_pedidos, lista_id_da_onda, lista_da_distancia, lista_da_rota, lista_dos_pedidos):\n",
    "\n",
    "    # Create variable to store total distance\n",
    "    distancia_da_rota = 0 \n",
    "    # Create waves\n",
    "    df_lista_dos_pedidos, numero_de_onda = mapeamento_da_lista_de_pedidos(df_lista_dos_pedidos, tamanho_de_onda)\n",
    "    # Loop all waves\n",
    "    for ID_Onda in range(numero_de_onda):\n",
    "        # Listing of all locations for this wave \n",
    "        lista_localizacoes, tamanho_lista_localizacoes = listagem_das_localizacoes(df_lista_dos_pedidos, ID_Onda)\n",
    "        # Results\n",
    "        distancia_da_onda, lista_do_caminho = criar_rota_de_coleta(ponto_de_origem, lista_localizacoes, y_limite_inferior, y_limite_superior)\n",
    "        distancia_da_rota = distancia_da_rota + distancia_da_onda\n",
    "        # Append lists of results \n",
    "        lista_id_da_onda.append(ID_Onda)\n",
    "        lista_da_distancia.append(distancia_da_onda)\n",
    "        lista_da_rota.append(lista_do_caminho)\n",
    "        lista_dos_pedidos.append(tamanho_de_onda)\n",
    "        \n",
    "    return lista_id_da_onda, lista_da_distancia, lista_da_rota, lista_dos_pedidos, distancia_da_rota\n",
    "ls_rotas = []\n",
    "ls_ordens = []\n",
    "# Test several values of orders per wave\n",
    "for tamanho_de_onda in range(1, 10):\n",
    "    lista_id_da_onda, lista_da_distancia, lista_da_rota, lista_dos_pedidos, distancia_da_rota = onda_simulada(y_limite_inferior, y_limite_superior, tamanho_de_onda, df_lista_dos_pedidos, lista_id_da_onda, lista_da_distancia, lista_da_rota, lista_dos_pedidos)\n",
    "    #print(\"Total distance covered for {} orders/wave: {:,} m\".format(tamanho_de_onda, distancia_da_rota))\n",
    "    ls_rotas.append(distancia_da_rota)\n",
    "    ls_ordens.append(tamanho_de_onda)\n",
    "# Create df for results\n",
    "df_resultados = pd.DataFrame({'Numero da Onda': lista_id_da_onda,\n",
    "               'Distancia da Rota': lista_da_distancia,\n",
    "               'Caminho Percorrido': lista_da_rota,\n",
    "               'Pedidos/Onda': lista_dos_pedidos})\n",
    "print(df_resultados.head())\n",
    "df_grafico = pd.DataFrame({'PedidosPorOnda':ls_ordens,\n",
    "               'Distancia_da_rota':ls_rotas })\n",
    "ax = df_grafico.plot.bar(x='PedidosPorOnda', y='Distancia_da_rota', rot=0, \n",
    "                         title= 'Análise da distância percorrida por tamanho de onda',\n",
    "                        ylabel='Distância[m]',\n",
    "                        xlabel='Quantidade de pedidos por onda')\n",
    "df_grafico.to_excel(\"analise1_layout2REVISADO.xlsx\")\n",
    "df_resultados.to_excel(\"analise1detalhe_layout2REVISADO.xlsx\")\n"
   ]
  }
 ],
 "metadata": {
  "kernelspec": {
   "display_name": "Python 3",
   "language": "python",
   "name": "python3"
  },
  "language_info": {
   "codemirror_mode": {
    "name": "ipython",
    "version": 3
   },
   "file_extension": ".py",
   "mimetype": "text/x-python",
   "name": "python",
   "nbconvert_exporter": "python",
   "pygments_lexer": "ipython3",
   "version": "3.8.8"
  }
 },
 "nbformat": 4,
 "nbformat_minor": 5
}
