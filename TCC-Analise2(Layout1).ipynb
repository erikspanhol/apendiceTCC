{
 "cells": [
  {
   "cell_type": "code",
   "execution_count": 53,
   "id": "d9c77516",
   "metadata": {},
   "outputs": [],
   "source": [
    "import pandas as pd\n",
    "import numpy as np"
   ]
  },
  {
   "cell_type": "code",
   "execution_count": 54,
   "id": "6141b2ac",
   "metadata": {},
   "outputs": [],
   "source": [
    "#importar dataframe do banco de dados do WMS gerado\n",
    "loc_itens_path = 'Desktop/TCC/GERAL/df_itens_10_10_1_100.csv'\n",
    "df_localizacoes = pd.read_csv(loc_itens_path)\n",
    "#importar dataframe dos pedidos\n",
    "ordens_de_compra_path = 'Desktop/TCC/GERAL/df_ordens_de_compra_100.csv'\n",
    "df_pedidos = pd.read_csv(ordens_de_compra_path)\n"
   ]
  },
  {
   "cell_type": "code",
   "execution_count": 55,
   "id": "109b6383",
   "metadata": {},
   "outputs": [],
   "source": [
    "#Identificar itens da lista de pedidos\n",
    "tam_lista_de_pedidos = len(df_pedidos)\n",
    "lista_de_itens = list(df_pedidos.Item)\n",
    "\n",
    "#listas para buscar coord. dos pedidos\n",
    "ls_posicao_x=[]\n",
    "ls_posicao_y=[]\n",
    "\n",
    "\n",
    "#Incluir coluna 'Coord' na df_lista_dos_pedidos na ordem da lista de pedidos\n",
    "for i in range(tam_lista_de_pedidos):\n",
    "    buscar_item = lista_de_itens[i]\n",
    "    for k in range(len(df_localizacoes)):\n",
    "        if buscar_item == int(df_localizacoes[k:k+1].Cod_Item):\n",
    "            ls_posicao_x.append(int(df_localizacoes[k:k+1].Coord_X))\n",
    "            ls_posicao_y.append(int(df_localizacoes[k:k+1].Coord_Y))\n",
    "ls=list(zip(ls_posicao_x,ls_posicao_y))   \n",
    "df_pedidos = df_pedidos.assign(Coord = ls)\n"
   ]
  },
  {
   "cell_type": "markdown",
   "id": "a8ac7b72",
   "metadata": {},
   "source": [
    "# Separar pedidos em singulares ou multiplos:\n"
   ]
  },
  {
   "cell_type": "code",
   "execution_count": 56,
   "id": "17b5f0a0",
   "metadata": {},
   "outputs": [],
   "source": [
    "# listas das colunas do df_pedidos\n",
    "ls_pedidos = list(df_pedidos.ID_pedido)\n",
    "ls_item = list(df_pedidos.Item)\n",
    "ls_coord = list(df_pedidos.Coord)\n",
    "ls_qtde = list(df_pedidos.Quant_itens)\n",
    "#---------------------------------------------\n",
    "#listas das colunas do df de pedidos multiplos\n",
    "ls_coord_multiplos = []\n",
    "ls_item_multiplos = []\n",
    "ls_qtde_multiplos = []\n",
    "ls_id_pedido_multiplos = []\n",
    "#---------------------------------------------\n",
    "#listas das colunas do df de pedidos singulares\n",
    "ls_coord_singular = []\n",
    "ls_item_singular = []\n",
    "ls_qtde_singular = []\n",
    "ls_id_pedido_singular = []\n",
    "#--------------------------------------------- \n",
    "cont=0\n",
    "while cont < len(ls_pedidos)-1:\n",
    "    \n",
    "    if ls_pedidos[cont] == ls_pedidos[cont+1]:\n",
    "        \n",
    "        ls_coord_multiplos.append(ls_coord[cont])\n",
    "        ls_item_multiplos.append(ls_item[cont])\n",
    "        ls_qtde_multiplos.append(ls_qtde[cont])\n",
    "        ls_id_pedido_multiplos.append(ls_pedidos[cont])\n",
    " \n",
    "        cont = cont + 1\n",
    "        \n",
    "        if ls_pedidos[cont] == ls_pedidos[cont-1]:\n",
    "            \n",
    "            ls_coord_multiplos.append(ls_coord[cont])\n",
    "            ls_item_multiplos.append(ls_item[cont])\n",
    "            ls_qtde_multiplos.append(ls_qtde[cont])\n",
    "            ls_id_pedido_multiplos.append(ls_pedidos[cont])\n",
    "          \n",
    "            cont = cont + 1\n",
    "    else:\n",
    "        \n",
    "        ls_coord_singular.append(ls_coord[cont])\n",
    "        ls_item_singular.append(ls_item[cont])\n",
    "        ls_qtde_singular.append(ls_qtde[cont])\n",
    "        ls_id_pedido_singular.append(ls_pedidos[cont])\n",
    "  \n",
    "        cont = cont + 1\n",
    "\n",
    "if ls_pedidos[len(ls_pedidos)-2] == ls_pedidos[len(ls_pedidos)-2]:\n",
    "    \n",
    "    ls_coord_multiplos.append(ls_coord[cont-1])\n",
    "    ls_item_multiplos.append(ls_item[cont-1])\n",
    "    ls_qtde_multiplos.append(ls_qtde[cont-1])\n",
    "    ls_id_pedido_multiplos.append(ls_pedidos[cont-1])     \n",
    "else:\n",
    "    \n",
    "    ls_coord_singular.append(ls_coord[cont-1])\n",
    "    ls_item_singular.append(ls_item[cont-1])\n",
    "    ls_qtde_singular.append(ls_qtde[cont-1])\n",
    "    ls_id_pedido_singular.append(ls_pedidos[cont-1])  \n",
    "\n",
    "df_pedidos_multiplos = pd.DataFrame(list(zip(ls_id_pedido_multiplos, ls_item_multiplos, ls_qtde_multiplos, ls_coord_multiplos)),\n",
    "               columns =['ID_Pedido','Item','Qtde', 'Coord'])\n",
    "df_pedidos_singulares = pd.DataFrame(list(zip(ls_id_pedido_singular, ls_item_singular, ls_qtde_singular, ls_coord_singular)),\n",
    "               columns =['ID_Pedido','Item','Qtde', 'Coord'])\n",
    "   "
   ]
  },
  {
   "cell_type": "code",
   "execution_count": 57,
   "id": "b83f5015",
   "metadata": {
    "scrolled": true
   },
   "outputs": [],
   "source": [
    "#Lista das coordenadas dos pedidos singulares\n",
    "lista_coord = list(df_pedidos_singulares.Coord)"
   ]
  },
  {
   "cell_type": "code",
   "execution_count": 58,
   "id": "8e2d9e5f",
   "metadata": {},
   "outputs": [],
   "source": [
    "def distancia_de_busca1(u, v):\n",
    "    #INCLUIR LIMITES DO ARMAZÉM \n",
    "    \n",
    "    y_limite_inferior, y_limite_superior = 0, 11 \n",
    "    # Start Point\n",
    "    x1, y1 = u[0], u[1]\n",
    "    # End Point\n",
    "    x2, y2 = v[0], v[1]\n",
    "    # Distancia eixo x\n",
    "    distancia_x = abs(x2 - x1)\n",
    "    # Distancia eixo y\n",
    "    if x1 == x2:\n",
    "        distancia_y1 = abs(y2 - y1)\n",
    "        distancia_y2 = distancia_y1\n",
    "    else:\n",
    "        distancia_y1 = (y_limite_superior - y1) + (y_limite_superior - y2)\n",
    "        distancia_y2 = (y1 - y_limite_inferior) + (y2 - y_limite_inferior)\n",
    "    # Distância mínima no eixo y \n",
    "    distancia_y = min(distancia_y1, distancia_y2)    \n",
    "    # Distancia total\n",
    "    distancia = distancia_x + distancia_y\n",
    "\n",
    "    return distancia"
   ]
  },
  {
   "cell_type": "code",
   "execution_count": 59,
   "id": "5c7443ce",
   "metadata": {},
   "outputs": [],
   "source": [
    "#Criar clusters baseado no limite de distancia\n",
    "from scipy.spatial.distance import pdist\n",
    "from scipy.cluster.hierarchy import ward, fcluster\n",
    "\n",
    "def cluster_locations(lista_coord, limite_dist):\n",
    "    ##Distancia caminhada\n",
    "    dc = pdist(lista_coord, distancia_de_busca1)\n",
    "    Y = ward(dc)\n",
    "    fclust1 = fcluster(Y, t = limite_dist, criterion = 'distance')\n",
    "    \n",
    "    return fclust1\n"
   ]
  },
  {
   "cell_type": "code",
   "execution_count": 60,
   "id": "daa238f1",
   "metadata": {},
   "outputs": [
    {
     "data": {
      "text/plain": [
       "20"
      ]
     },
     "execution_count": 60,
     "metadata": {},
     "output_type": "execute_result"
    }
   ],
   "source": [
    "#criar loop incrementando limite_dist para ajuste de limite ótimo --> Incrementar limite_dist para análise\n",
    "limite_dist = 20  \n",
    "clust_id = cluster_locations(lista_coord, limite_dist)\n",
    "df_pedidos_singulares = df_pedidos_singulares.assign(Cluster_ID = clust_id)\n",
    "limite_dist"
   ]
  },
  {
   "cell_type": "code",
   "execution_count": 61,
   "id": "a778356d",
   "metadata": {},
   "outputs": [],
   "source": [
    "#Ordenar pedidos por clusters e ID_pedido\n",
    "df_pedidos_singulares = df_pedidos_singulares.sort_values(['Cluster_ID','ID_Pedido'], ascending = True)"
   ]
  },
  {
   "cell_type": "code",
   "execution_count": 62,
   "id": "98ac761c",
   "metadata": {},
   "outputs": [],
   "source": [
    "#listar pedidos\n",
    "list_orders = list(df_pedidos_singulares.ID_Pedido.unique())"
   ]
  },
  {
   "cell_type": "code",
   "execution_count": 63,
   "id": "c1f75b65",
   "metadata": {},
   "outputs": [],
   "source": [
    "#criar dicionario de pedidos key:pedido. value: contagem\n",
    "dict_omap = dict(zip(list_orders, [i for i in range(1, len(list_orders)+1)]))"
   ]
  },
  {
   "cell_type": "code",
   "execution_count": 64,
   "id": "4984581a",
   "metadata": {},
   "outputs": [],
   "source": [
    "df_pedidos_singulares['OrderID'] = df_pedidos_singulares['ID_Pedido'].map(dict_omap)"
   ]
  },
  {
   "cell_type": "code",
   "execution_count": 65,
   "id": "e769617d",
   "metadata": {},
   "outputs": [],
   "source": [
    "wave_number = 0\n",
    "incr = orders_number \n",
    "list_cluster_diff = list(df_pedidos_singulares.Cluster_ID.diff())\n",
    "list_wave_ID =[]\n",
    "\n",
    "#Preenchimento de ondas até atingir numero de 'orders_number' ou mudança de Cluster_ID\n",
    "\n",
    "for i in range(len(list_cluster_diff)):\n",
    "    if (incr == 1) or (list_cluster_diff[i]):\n",
    "        wave_number+=1\n",
    "        list_wave_ID.append(wave_number)\n",
    "        incr = incr = orders_number\n",
    "    else:\n",
    "        list_wave_ID.append(wave_number)\n",
    "        incr -= 1\n",
    "     \n",
    "\n",
    "df_pedidos_singulares = df_pedidos_singulares.assign(WaveID = list_wave_ID)   \n",
    "numero_ondas_singulares = max(df_pedidos_singulares.WaveID)\n"
   ]
  },
  {
   "cell_type": "code",
   "execution_count": 66,
   "id": "86f396bf",
   "metadata": {},
   "outputs": [],
   "source": [
    "\n",
    "#orders_number= 3\n",
    "\n",
    "def mapeamento_pedidos_singulares(orders_number, df_pedidos_singulares):\n",
    "    wave_number = 0\n",
    "    incr = orders_number \n",
    "    list_cluster_diff = list(df_pedidos_singulares.Cluster_ID.diff())\n",
    "    list_wave_ID =[]\n",
    "\n",
    "#Preenchimento de ondas até atingir numero de 'orders_number' ou mudança de Cluster_ID\n",
    "\n",
    "    for i in range(len(list_cluster_diff)):\n",
    "        if (incr == 1) or (list_cluster_diff[i]):\n",
    "            wave_number+=1\n",
    "            list_wave_ID.append(wave_number)\n",
    "            incr = incr = orders_number\n",
    "        else:\n",
    "            list_wave_ID.append(wave_number)\n",
    "            incr -= 1\n",
    "    \n",
    "    df_pedidos_singulares = df_pedidos_singulares.assign(WaveID = list_wave_ID)   \n",
    "    numero_ondas_singulares = max(df_pedidos_singulares.WaveID)\n",
    "    return df_pedidos_singulares, numero_ondas_singulares\n"
   ]
  },
  {
   "cell_type": "markdown",
   "id": "4ac39547",
   "metadata": {},
   "source": [
    "Separar pedidos múltiplos em listas"
   ]
  },
  {
   "cell_type": "code",
   "execution_count": 67,
   "id": "5cfe15ea",
   "metadata": {},
   "outputs": [],
   "source": [
    "list_orders_mult = list(df_pedidos_multiplos.ID_Pedido.unique())"
   ]
  },
  {
   "cell_type": "code",
   "execution_count": 68,
   "id": "ef7bb69c",
   "metadata": {},
   "outputs": [],
   "source": [
    "dict_omap_mult = dict(zip(list_orders_mult, [i for i in range(1, len(list_orders_mult)+1)]))\n",
    "df_pedidos_multiplos['OrderID'] = df_pedidos_multiplos['ID_Pedido'].map(dict_omap_mult)\n"
   ]
  },
  {
   "cell_type": "code",
   "execution_count": 69,
   "id": "93e380f8",
   "metadata": {},
   "outputs": [],
   "source": [
    "def centroid(list_in):\n",
    "    x, y = [p[0] for p in list_in], [p[1] for p in list_in]\n",
    "    centroid = [round(sum(x) / len(list_in),2), round(sum(y) / len(list_in), 2)]\n",
    "    return centroid"
   ]
  },
  {
   "cell_type": "code",
   "execution_count": 70,
   "id": "07e5a632",
   "metadata": {},
   "outputs": [],
   "source": [
    "##Para cada OrderID agrupar as coord\n",
    "df_mult_agrupada = pd.DataFrame(df_pedidos_multiplos.groupby(['OrderID'])['Coord'].apply(list)).reset_index()\n",
    "\n",
    "#Calcular centroide e incluir no df\n",
    "df_mult_agrupada['Coord_Centroide'] = df_mult_agrupada['Coord'].apply(centroid)\n",
    "\n",
    "#dicionario para mapeamento\n",
    "list_order, list_coord = list(df_mult_agrupada.OrderID.values), list(df_mult_agrupada.Coord_Centroide.values)\n",
    "dict_coord = dict(zip(list_order, list_coord))\n",
    "\n"
   ]
  },
  {
   "cell_type": "code",
   "execution_count": 71,
   "id": "ea1c8a63",
   "metadata": {},
   "outputs": [],
   "source": [
    "#mapeamento final\n",
    "df_pedidos_multiplos['Coord_Cluster'] = df_pedidos_multiplos['OrderID'].map(dict_coord)\n"
   ]
  },
  {
   "cell_type": "code",
   "execution_count": 72,
   "id": "5fdf0969",
   "metadata": {},
   "outputs": [],
   "source": [
    "#Lista das coordenadas dos cluster dos pedidos multiplos\n",
    "lista_coord_mult = list(df_pedidos_multiplos.Coord_Cluster)"
   ]
  },
  {
   "cell_type": "code",
   "execution_count": 73,
   "id": "b5b69f9b",
   "metadata": {},
   "outputs": [],
   "source": [
    "#Incluir cluster id nos pedidos multiplos\n",
    "clust_id_mult=cluster_locations(lista_coord_mult, limite_dist)\n",
    "df_pedidos_multiplos = df_pedidos_multiplos.assign(Cluster_ID = clust_id_mult)"
   ]
  },
  {
   "cell_type": "code",
   "execution_count": 74,
   "id": "4c3fe1f4",
   "metadata": {},
   "outputs": [],
   "source": [
    "#ordernar pedidos multiplos por Clust ID\n",
    "df_pedidos_multiplos = df_pedidos_multiplos.sort_values(['Cluster_ID','ID_Pedido'], ascending = True)"
   ]
  },
  {
   "cell_type": "code",
   "execution_count": 76,
   "id": "f253c7ee",
   "metadata": {},
   "outputs": [],
   "source": [
    "#listar pedidos multiplos\n",
    "list_mult_orders = list(df_pedidos_multiplos.ID_Pedido.unique())"
   ]
  },
  {
   "cell_type": "code",
   "execution_count": 77,
   "id": "387e7527",
   "metadata": {},
   "outputs": [],
   "source": [
    "#criar dicionario de pedidos key:pedido. value: contagem\n",
    "dict_mult_omap = dict(zip(list_mult_orders, [i for i in range(1, len(list_mult_orders)+1)]))"
   ]
  },
  {
   "cell_type": "code",
   "execution_count": 78,
   "id": "8ba4da78",
   "metadata": {},
   "outputs": [],
   "source": [
    "df_pedidos_multiplos['OrderID'] = df_pedidos_multiplos['ID_Pedido'].map(dict_mult_omap)"
   ]
  },
  {
   "cell_type": "code",
   "execution_count": 79,
   "id": "310c1c58",
   "metadata": {
    "scrolled": true
   },
   "outputs": [],
   "source": [
    "wave_number = numero_ondas_singulares\n",
    "#orders_number= 3\n",
    "incr = orders_number \n",
    "list_cluster_diff_mult = list(df_pedidos_multiplos.Cluster_ID.diff())\n",
    "list_wave_ID_mult =[]\n",
    "\n",
    "#Preenchimento de ondas até atingir numero de 'orders_number' ou mudança de Cluster_ID\n",
    "\n",
    "for i in range(len(list_cluster_diff_mult)):\n",
    "    if (incr == 1) or (list_cluster_diff_mult[i]):\n",
    "        wave_number+=1\n",
    "        list_wave_ID_mult.append(wave_number)\n",
    "        incr = incr = orders_number\n",
    "    else:\n",
    "        list_wave_ID_mult.append(wave_number)\n",
    "        incr -= 1\n",
    "\n",
    "#list_wave_ID_mult\n",
    "    \n",
    "df_pedidos_multiplos = df_pedidos_multiplos.assign(WaveID = list_wave_ID_mult)   \n"
   ]
  },
  {
   "cell_type": "code",
   "execution_count": 80,
   "id": "a33970a8",
   "metadata": {},
   "outputs": [],
   "source": [
    "\n",
    "def mapeamento_pedidos_multiplos(orders_number, df_pedidos_multiplos):\n",
    "    pedidos_singulares, wave_number = mapeamento_pedidos_singulares(orders_number, df_pedidos_singulares)\n",
    "    incr = orders_number \n",
    "    list_cluster_diff_mult = list(df_pedidos_multiplos.Cluster_ID.diff())\n",
    "    list_wave_ID_mult =[]\n",
    "\n",
    "#Preenchimento de ondas até atingir numero de 'orders_number' ou mudança de Cluster_ID\n",
    "\n",
    "    for i in range(len(list_cluster_diff_mult)):\n",
    "        if (incr == 1) or (list_cluster_diff_mult[i]):\n",
    "            wave_number+=1\n",
    "            list_wave_ID_mult.append(wave_number)\n",
    "            incr = incr = orders_number\n",
    "        else:\n",
    "            list_wave_ID_mult.append(wave_number)\n",
    "            incr -= 1\n",
    "\n",
    "#list_wave_ID_mult\n",
    "    \n",
    "    df_pedidos_multiplos = df_pedidos_multiplos.assign(WaveID = list_wave_ID_mult)   \n",
    "    return df_pedidos_multiplos\n",
    "dfpedids = mapeamento_pedidos_multiplos(orders_number, df_pedidos_multiplos)"
   ]
  },
  {
   "cell_type": "code",
   "execution_count": 81,
   "id": "aa268733",
   "metadata": {},
   "outputs": [],
   "source": [
    "def mapeamento_da_lista_de_pedidos(df_pedidos_singulares,df_pedidos_multiplos, orders_number):\n",
    "    df_pedidos_singulares, tam_onda = mapeamento_pedidos_singulares(orders_number, df_pedidos_singulares)\n",
    "    df_pedidos_multiplos = mapeamento_pedidos_multiplos(orders_number, df_pedidos_multiplos)\n",
    "    frames = [df_pedidos_singulares, df_pedidos_multiplos]\n",
    "    df_list_result = pd.concat(frames)\n",
    "    df_list_result = df_list_result.drop(columns =['Coord_Cluster'])\n",
    "    numero_de_ondas = max(df_list_result.WaveID)\n",
    "    return df_list_result, numero_de_ondas"
   ]
  },
  {
   "cell_type": "code",
   "execution_count": 82,
   "id": "f001a5a0",
   "metadata": {},
   "outputs": [],
   "source": [
    "frames = [df_pedidos_singulares, df_pedidos_multiplos]\n",
    "df_list_result = pd.concat(frames)"
   ]
  },
  {
   "cell_type": "code",
   "execution_count": 83,
   "id": "d8e018a7",
   "metadata": {},
   "outputs": [],
   "source": [
    "df_list_result = df_list_result.drop(columns =['Coord_Cluster'])"
   ]
  },
  {
   "cell_type": "markdown",
   "id": "a6029cd4",
   "metadata": {},
   "source": [
    "# Criar simulações de ondas coletas"
   ]
  },
  {
   "cell_type": "code",
   "execution_count": 85,
   "id": "022be262",
   "metadata": {},
   "outputs": [],
   "source": [
    "numero_de_ondas = max(df_list_result.WaveID)\n"
   ]
  },
  {
   "cell_type": "code",
   "execution_count": 86,
   "id": "1952645e",
   "metadata": {},
   "outputs": [],
   "source": [
    "# Calculate Picker Route Distance between two locations\n",
    "def distancia_de_busca(ponto1, ponto2, y_limite_inferior, y_limite_superior):\n",
    "\n",
    "    # Start Point\n",
    "    x1, y1 = ponto1[0], ponto1[1]\n",
    "    # End Point\n",
    "    x2, y2 = ponto2[0], ponto2[1]\n",
    "    # Distance x-axis\n",
    "    distancia_x = abs(x2 - x1)\n",
    "    # Distance y-axis\n",
    "    if x1 == x2:\n",
    "        distancia_y1 = abs(y2 - y1)\n",
    "        distancia_y2 = distancia_y1\n",
    "    else:\n",
    "        distancia_y1 = (y_limite_superior - y1) + (y_limite_superior - y2)\n",
    "        distancia_y2 = (y1 - y_limite_inferior) + (y2 - y_limite_inferior)\n",
    "    # Minimum distance on y-axis \n",
    "    distancia_y = min(distancia_y1, distancia_y2)    \n",
    "    # Total distance\n",
    "    distancia = distancia_x + distancia_y\n",
    "\n",
    "    return distancia"
   ]
  },
  {
   "cell_type": "code",
   "execution_count": 87,
   "id": "cc3bb185",
   "metadata": {},
   "outputs": [],
   "source": [
    "def proximo_ponto(ponto_inicial, lista_localizacoes, y_limite_inferior, y_limite_superior):\n",
    "\n",
    "    # Distance to every next points candidate\n",
    "    lista_distancias = [distancia_de_busca(ponto_inicial, i, y_limite_inferior, y_limite_superior) for i in lista_localizacoes]\n",
    "    # Minimum Distance \n",
    "    distancia_seguinte = min(lista_distancias)\n",
    "    # Location of minimum distance\n",
    "    index_min = lista_distancias.index(min(lista_distancias))\n",
    "    ponto_seguinte = lista_localizacoes[index_min] # Next location is the first location with distance = min (**)\n",
    "    lista_localizacoes.remove(ponto_seguinte)      # Next location is removed from the list of candidates\n",
    "    \n",
    "    return lista_localizacoes, ponto_inicial, ponto_seguinte, distancia_seguinte"
   ]
  },
  {
   "cell_type": "code",
   "execution_count": 88,
   "id": "75e84063",
   "metadata": {},
   "outputs": [],
   "source": [
    "def criar_rota_de_coleta(ponto_de_origem, lista_localizacoes, y_limite_inferior, y_limite_superior):\n",
    "\n",
    "    # Total distance variable\n",
    "    distancia_da_onda = 0\n",
    "    # Current location variable \n",
    "    ponto_inicial = ponto_de_origem\n",
    "    # Store routes\n",
    "    lista_do_caminho = []\n",
    "    lista_do_caminho.append(ponto_inicial)\n",
    "    \n",
    "    while len(lista_localizacoes) > 0: # Looping until all locations are picked\n",
    "        # Going to next location\n",
    "        lista_localizacoes, ponto_inicial, ponto_seguinte, distancia_seguinte = proximo_ponto(ponto_inicial, lista_localizacoes, y_limite_inferior, y_limite_superior)\n",
    "        # Update ponto_inicial \n",
    "        ponto_inicial = ponto_seguinte\n",
    "        lista_do_caminho.append(ponto_inicial)\n",
    "        # Update distance\n",
    "        distancia_da_onda = distancia_da_onda + distancia_seguinte \n",
    "\n",
    "    # Final distance from last storage location to origin\n",
    "    distancia_da_onda = distancia_da_onda + distancia_de_busca(ponto_inicial, ponto_de_origem, y_limite_inferior, y_limite_superior)\n",
    "    lista_do_caminho.append(ponto_de_origem)\n",
    "    \n",
    "    return distancia_da_onda, lista_do_caminho"
   ]
  },
  {
   "cell_type": "code",
   "execution_count": 89,
   "id": "15bc6811",
   "metadata": {},
   "outputs": [],
   "source": [
    "def listagem_das_localizacoes(df_list_result, ID_Onda):\n",
    "\n",
    "    # Filter by ID_Onda\n",
    "    df = df_list_result[df_list_result.WaveID == ID_Onda]\n",
    "    # Create coordinates listing\n",
    "    lista_localizacoes = list(df['Coord'])\n",
    "    lista_localizacoes.sort()\n",
    "    # Get unique Unique coordinates\n",
    "    #lista_localizacoes = list(k for k,_ in itertools.groupby(lista_localizacoes))\n",
    "    tamanho_lista_localizacoes = len(lista_localizacoes)\n",
    "\n",
    "    return lista_localizacoes, tamanho_lista_localizacoes\n",
    "\n",
    "\n"
   ]
  },
  {
   "cell_type": "code",
   "execution_count": 90,
   "id": "80320fff",
   "metadata": {},
   "outputs": [
    {
     "name": "stdout",
     "output_type": "stream",
     "text": [
      "    Numero da Onda  Distancia da Rota  \\\n",
      "0                0                  0   \n",
      "1                1                 38   \n",
      "2                2                 38   \n",
      "3                3                 24   \n",
      "4                4                 24   \n",
      "5                5                 28   \n",
      "6                6                 20   \n",
      "7                7                 46   \n",
      "8                8                 54   \n",
      "9                9                 52   \n",
      "10              10                 40   \n",
      "11              11                 34   \n",
      "12              12                 40   \n",
      "13              13                 44   \n",
      "14              14                 80   \n",
      "15              15                 56   \n",
      "16              16                 56   \n",
      "17              17                 88   \n",
      "18              18                 50   \n",
      "\n",
      "                                   Caminho Percorrido  Pedidos/Onda  \n",
      "0                                    [[0, 0], [0, 0]]             8  \n",
      "1   [[0, 0], (6, 7), (6, 8), (6, 8), (6, 8), (6, 8...             8  \n",
      "2                    [[0, 0], (8, 5), (6, 8), [0, 0]]             8  \n",
      "3   [[0, 0], (2, 6), (2, 6), (2, 6), (2, 8), (2, 1...             8  \n",
      "4   [[0, 0], (2, 6), (2, 6), (2, 8), (2, 10), [0, 0]]             8  \n",
      "5   [[0, 0], (2, 1), (2, 2), (4, 1), (4, 1), (4, 1...             8  \n",
      "6            [[0, 0], (2, 1), (4, 1), (4, 5), [0, 0]]             8  \n",
      "7   [[0, 0], (16, 2), (16, 2), (16, 7), (16, 7), (...             8  \n",
      "8   [[0, 0], (20, 1), (20, 4), (20, 7), (20, 7), [...             8  \n",
      "9   [[0, 0], (18, 2), (18, 2), (18, 2), (18, 2), (...             8  \n",
      "10  [[0, 0], (10, 3), (10, 3), (10, 3), (10, 4), (...             8  \n",
      "11  [[0, 0], (10, 2), (10, 3), (10, 3), (10, 3), (...             8  \n",
      "12  [[0, 0], (12, 8), (12, 8), (12, 8), (12, 8), (...             8  \n",
      "13  [[0, 0], (14, 3), (14, 3), (14, 4), (14, 6), (...             8  \n",
      "14  [[0, 0], (14, 6), (16, 7), (18, 2), (18, 2), (...             8  \n",
      "15  [[0, 0], (2, 1), (2, 1), (4, 1), (4, 1), (4, 2...             8  \n",
      "16  [[0, 0], (2, 1), (4, 1), (4, 1), (6, 1), (10, ...             8  \n",
      "17  [[0, 0], (4, 6), (10, 4), (12, 8), (12, 8), (1...             8  \n",
      "18  [[0, 0], (2, 1), (2, 6), (2, 8), (14, 8), (14,...             8  \n",
      "[812]\n"
     ]
    },
    {
     "data": {
      "image/png": "[encoded data removed]",
      "text/plain": [
       "<Figure size 432x288 with 1 Axes>"
      ]
     },
     "metadata": {
      "needs_background": "light"
     },
     "output_type": "display_data"
    }
   ],
   "source": [
    "lista_localizacoes = df_list_result.Coord\n",
    "y_limite_inferior, y_limite_superior = 0, 11 \t\t# Alley Coordinates on y-axis\n",
    "ponto_de_origem = [0, y_limite_inferior]  \t\t\t# Origin Location\n",
    "orders_number = 8\n",
    "lista_id_da_onda, lista_da_distancia, lista_da_rota, lista_dos_pedidos = [], [], [], []\n",
    "def onda_simulada(y_limite_inferior, y_limite_superior, tamanho_de_onda, df_list_result, lista_id_da_onda, lista_da_distancia, lista_da_rota, lista_dos_pedidos):\n",
    "    distancia_da_rota = 0\n",
    "    df_list_result, numero_de_ondas = mapeamento_da_lista_de_pedidos(df_pedidos_singulares,df_pedidos_multiplos, orders_number)\n",
    "    #df_lista_dos_pedidos, numero_de_onda = mapeamento_da_lista_de_pedidos(df_pedidos_singulares,df_pedidos_multiplos, orders_number)\n",
    "    for ID_Onda in range(numero_de_ondas):\n",
    "            # Listing of all locations for this wave \n",
    "        lista_localizacoes, tamanho_lista_localizacoes = listagem_das_localizacoes(df_list_result, ID_Onda)\n",
    "        distancia_da_onda, lista_do_caminho = criar_rota_de_coleta(ponto_de_origem, lista_localizacoes, y_limite_inferior, y_limite_superior)\n",
    "        distancia_da_rota = distancia_da_rota + distancia_da_onda\n",
    "        # Append lists of results \n",
    "        lista_id_da_onda.append(ID_Onda)\n",
    "        lista_da_distancia.append(distancia_da_onda)\n",
    "        lista_da_rota.append(lista_do_caminho)\n",
    "        lista_dos_pedidos.append(tamanho_de_onda)\n",
    "    return lista_id_da_onda, lista_da_distancia, lista_da_rota, lista_dos_pedidos, distancia_da_rota\n",
    "ls_rotas = []\n",
    "ls_ordens = []\n",
    "# Test several values of orders per wave\n",
    "lista_id_da_onda, lista_da_distancia, lista_da_rota, lista_dos_pedidos, distancia_da_rota = onda_simulada(y_limite_inferior, y_limite_superior, orders_number, df_list_result, lista_id_da_onda, lista_da_distancia, lista_da_rota, lista_dos_pedidos)\n",
    "    #print(\"Total distance covered for {} orders/wave: {:,} m\".format(tamanho_de_onda, distancia_da_rota))\n",
    "ls_rotas.append(distancia_da_rota)\n",
    "ls_ordens.append(orders_number)\n",
    "# Create df for results\n",
    "df_resultados = pd.DataFrame({'Numero da Onda': lista_id_da_onda,\n",
    "               'Distancia da Rota': lista_da_distancia,\n",
    "               'Caminho Percorrido': lista_da_rota,\n",
    "               'Pedidos/Onda': lista_dos_pedidos})\n",
    "print(df_resultados)\n",
    "df_grafico = pd.DataFrame({'PedidosPorOnda':ls_ordens,\n",
    "               'Distancia_da_rota':ls_rotas })\n",
    "ax = df_grafico.plot.bar(x='PedidosPorOnda', y='Distancia_da_rota', rot=0, \n",
    "                         title= 'Análise da distância percorrida por tamanho de onda',\n",
    "                        ylabel='Distância[m]',\n",
    "                        xlabel='Quantidade de pedidos por onda')\n",
    "print(ls_rotas)\n",
    "#df_grafico.to_excel(\"analise2limiar20.xlsx\")\n",
    "#df_resultados.to_excel(\"analise2limiar20detalhada.xlsx\")"
   ]
  }
 ],
 "metadata": {
  "kernelspec": {
   "display_name": "Python 3",
   "language": "python",
   "name": "python3"
  },
  "language_info": {
   "codemirror_mode": {
    "name": "ipython",
    "version": 3
   },
   "file_extension": ".py",
   "mimetype": "text/x-python",
   "name": "python",
   "nbconvert_exporter": "python",
   "pygments_lexer": "ipython3",
   "version": "3.8.8"
  }
 },
 "nbformat": 4,
 "nbformat_minor": 5
}
